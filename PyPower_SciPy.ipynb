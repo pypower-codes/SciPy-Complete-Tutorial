{
  "nbformat": 4,
  "nbformat_minor": 0,
  "metadata": {
    "colab": {
      "name": "PyPower_SciPy.ipynb",
      "provenance": [],
      "collapsed_sections": []
    },
    "kernelspec": {
      "name": "python3",
      "display_name": "Python 3"
    }
  },
  "cells": [
    {
      "cell_type": "markdown",
      "metadata": {
        "id": "bPCajDS6opzk",
        "colab_type": "text"
      },
      "source": [
        "# SciPy Tutorial - Presented by PyPower"
      ]
    },
    {
      "cell_type": "markdown",
      "metadata": {
        "id": "Nt-q9V5MosfC",
        "colab_type": "text"
      },
      "source": [
        "## Scipy Intoduction\n",
        "\n",
        "### SciPy = Scientific Python\n",
        "\n",
        "SciPy is a collection of mathematical algorithms and convenience functions built on the Numpy extension of Python. It with high-level commands and classes for manipulating and visualizing data. \n",
        "\n",
        "The additional benefit of basing SciPy on Python is that this also makes a powerful programming language available for use in developing sophisticated programs and specialized applications. \n",
        "\n",
        "Let's start with the contents of tutorial."
      ]
    },
    {
      "cell_type": "markdown",
      "metadata": {
        "id": "4PlaTlY4pNSr",
        "colab_type": "text"
      },
      "source": [
        "## Contents Covered :\n",
        "\n",
        "#### 1) Basic -  Polynomial\n",
        "#### 2) Special Funtion \n",
        "#### 3) Integration\n",
        "#### 4) Linear Algebra \n",
        "#### 5) Fourier Transformation\n",
        "#### 6) Interpolation \n",
        "#### 7) Statistics\n",
        "#### 8) Miscellaneous "
      ]
    },
    {
      "cell_type": "markdown",
      "metadata": {
        "id": "HfgrlCWaqEs_",
        "colab_type": "text"
      },
      "source": [
        "## 1) Basic - Polynomial"
      ]
    },
    {
      "cell_type": "code",
      "metadata": {
        "id": "siEfISeAbCNT",
        "colab_type": "code",
        "outputId": "2d68a2f8-68c1-406b-f725-a1f8dba57773",
        "colab": {
          "base_uri": "https://localhost:8080/",
          "height": 52
        }
      },
      "source": [
        "from numpy import poly1d\n",
        "p = poly1d([3,6,8])\n",
        "print(p)"
      ],
      "execution_count": 154,
      "outputs": [
        {
          "output_type": "stream",
          "text": [
            "   2\n",
            "3 x + 6 x + 8\n"
          ],
          "name": "stdout"
        }
      ]
    },
    {
      "cell_type": "code",
      "metadata": {
        "id": "_UZHr4b8bCNo",
        "colab_type": "code",
        "outputId": "87af4728-561e-4291-ed71-a81b4eff960b",
        "colab": {
          "base_uri": "https://localhost:8080/",
          "height": 52
        }
      },
      "source": [
        "print(p*p)  #(3x^2 + 4^x + 5)^2"
      ],
      "execution_count": 155,
      "outputs": [
        {
          "output_type": "stream",
          "text": [
            "   4      3      2\n",
            "9 x + 36 x + 84 x + 96 x + 64\n"
          ],
          "name": "stdout"
        }
      ]
    },
    {
      "cell_type": "code",
      "metadata": {
        "id": "Y3rr1SZ4bCOE",
        "colab_type": "code",
        "outputId": "b8ec8d12-9af9-4dbd-faba-c03c03221424",
        "colab": {
          "base_uri": "https://localhost:8080/",
          "height": 87
        }
      },
      "source": [
        "print(p)\n",
        "print(\" p(2) = \",p(2))\n",
        "print(\" p(2) and p(3) = \",p([2,3]))"
      ],
      "execution_count": 158,
      "outputs": [
        {
          "output_type": "stream",
          "text": [
            "   2\n",
            "3 x + 6 x + 8\n",
            " p(2) =  32\n",
            " p(2) and p(3) =  [32 53]\n"
          ],
          "name": "stdout"
        }
      ]
    },
    {
      "cell_type": "code",
      "metadata": {
        "id": "K-STCxXFcAtE",
        "colab_type": "code",
        "outputId": "cedde40b-6fa6-4551-d8a5-2fd83936f56f",
        "colab": {
          "base_uri": "https://localhost:8080/",
          "height": 35
        }
      },
      "source": [
        "#Roots of p\n",
        "p.r"
      ],
      "execution_count": 159,
      "outputs": [
        {
          "output_type": "execute_result",
          "data": {
            "text/plain": [
              "array([-1.+1.29099445j, -1.-1.29099445j])"
            ]
          },
          "metadata": {
            "tags": []
          },
          "execution_count": 159
        }
      ]
    },
    {
      "cell_type": "code",
      "metadata": {
        "id": "cxMSBLaVcAtP",
        "colab_type": "code",
        "outputId": "61ee3290-ae83-4fbc-df05-373f4da1285b",
        "colab": {
          "base_uri": "https://localhost:8080/",
          "height": 35
        }
      },
      "source": [
        "#coefficients of p\n",
        "p "
      ],
      "execution_count": 160,
      "outputs": [
        {
          "output_type": "execute_result",
          "data": {
            "text/plain": [
              "poly1d([3, 6, 8])"
            ]
          },
          "metadata": {
            "tags": []
          },
          "execution_count": 160
        }
      ]
    },
    {
      "cell_type": "code",
      "metadata": {
        "id": "ZTUT0iHCcAtW",
        "colab_type": "code",
        "colab": {
          "base_uri": "https://localhost:8080/",
          "height": 104
        },
        "outputId": "73bc0b66-3d72-488a-95da-a6bcd26b6f3c"
      },
      "source": [
        "print(p)\n",
        "p1 = poly1d([1,2,3],variable='y') #equation with variable as y\n",
        "print()\n",
        "print(p1)"
      ],
      "execution_count": 163,
      "outputs": [
        {
          "output_type": "stream",
          "text": [
            "   2\n",
            "3 x + 6 x + 8\n",
            "\n",
            "   2\n",
            "1 y + 2 y + 3\n"
          ],
          "name": "stdout"
        }
      ]
    },
    {
      "cell_type": "code",
      "metadata": {
        "id": "nq2l5F29bCNy",
        "colab_type": "code",
        "outputId": "a1341ca8-1fd6-48b7-b913-b52968f45fc0",
        "colab": {
          "base_uri": "https://localhost:8080/",
          "height": 52
        }
      },
      "source": [
        "#Integration of a Polynomial\n",
        "\n",
        "print(p.integ(k=6)) #k = indefinite integration constant"
      ],
      "execution_count": 164,
      "outputs": [
        {
          "output_type": "stream",
          "text": [
            "   3     2\n",
            "1 x + 3 x + 8 x + 6\n"
          ],
          "name": "stdout"
        }
      ]
    },
    {
      "cell_type": "code",
      "metadata": {
        "id": "etrJF9oXbCN8",
        "colab_type": "code",
        "outputId": "bad5064c-f2a3-41a2-a6ab-2ace14c29d89",
        "colab": {
          "base_uri": "https://localhost:8080/",
          "height": 52
        }
      },
      "source": [
        "# Differentiation of a Polynomial\n",
        "\n",
        "print(p.deriv())"
      ],
      "execution_count": 0,
      "outputs": [
        {
          "output_type": "stream",
          "text": [
            " \n",
            "6 x + 6\n"
          ],
          "name": "stdout"
        }
      ]
    },
    {
      "cell_type": "markdown",
      "metadata": {
        "id": "fYkXtvnncmrK",
        "colab_type": "text"
      },
      "source": [
        "## 2) Special Function (import scipy.special)"
      ]
    },
    {
      "cell_type": "code",
      "metadata": {
        "id": "04i0M9kIqZ_a",
        "colab_type": "code",
        "colab": {}
      },
      "source": [
        "import scipy.special"
      ],
      "execution_count": 0,
      "outputs": []
    },
    {
      "cell_type": "code",
      "metadata": {
        "id": "rRhljNHWqZ9J",
        "colab_type": "code",
        "outputId": "a532f712-4e0e-449f-c4d7-18bb0941f297",
        "colab": {
          "base_uri": "https://localhost:8080/",
          "height": 35
        }
      },
      "source": [
        "import numpy as np\n",
        "a = np.arange(1,11)\n",
        "a"
      ],
      "execution_count": 18,
      "outputs": [
        {
          "output_type": "execute_result",
          "data": {
            "text/plain": [
              "array([ 1,  2,  3,  4,  5,  6,  7,  8,  9, 10])"
            ]
          },
          "metadata": {
            "tags": []
          },
          "execution_count": 18
        }
      ]
    },
    {
      "cell_type": "code",
      "metadata": {
        "id": "EWAkBnj4qZzK",
        "colab_type": "code",
        "outputId": "3aca23d2-49fd-497d-a727-e9def5c5b90d",
        "colab": {
          "base_uri": "https://localhost:8080/",
          "height": 52
        }
      },
      "source": [
        "#Cube Root\n",
        "scipy.special.cbrt(a)"
      ],
      "execution_count": 19,
      "outputs": [
        {
          "output_type": "execute_result",
          "data": {
            "text/plain": [
              "array([1.        , 1.25992105, 1.44224957, 1.58740105, 1.70997595,\n",
              "       1.81712059, 1.91293118, 2.        , 2.08008382, 2.15443469])"
            ]
          },
          "metadata": {
            "tags": []
          },
          "execution_count": 19
        }
      ]
    },
    {
      "cell_type": "code",
      "metadata": {
        "id": "XBBYPr2rqZvw",
        "colab_type": "code",
        "outputId": "c9542800-d759-4c2f-b719-d39c338c569c",
        "colab": {
          "base_uri": "https://localhost:8080/",
          "height": 35
        }
      },
      "source": [
        "# Exponent of 10 (exp10())\n",
        "x = 3\n",
        "scipy.special.exp10(x)"
      ],
      "execution_count": 20,
      "outputs": [
        {
          "output_type": "execute_result",
          "data": {
            "text/plain": [
              "1000.0"
            ]
          },
          "metadata": {
            "tags": []
          },
          "execution_count": 20
        }
      ]
    },
    {
      "cell_type": "code",
      "metadata": {
        "id": "4V2DkcL2qZtP",
        "colab_type": "code",
        "outputId": "adf4c3f6-6058-4259-ea97-42859dadc9d9",
        "colab": {
          "base_uri": "https://localhost:8080/",
          "height": 35
        }
      },
      "source": [
        "# Exponent of 2 (exp2())\n",
        "x = 3\n",
        "scipy.special.exp2(x)"
      ],
      "execution_count": 21,
      "outputs": [
        {
          "output_type": "execute_result",
          "data": {
            "text/plain": [
              "8.0"
            ]
          },
          "metadata": {
            "tags": []
          },
          "execution_count": 21
        }
      ]
    },
    {
      "cell_type": "code",
      "metadata": {
        "id": "kzzY6jLZrZLr",
        "colab_type": "code",
        "outputId": "11b54b14-5046-4df6-e8bc-0ca29a16e294",
        "colab": {
          "base_uri": "https://localhost:8080/",
          "height": 35
        }
      },
      "source": [
        "# Degree to Radian (radian(d,m,s))\n",
        "d = 30\n",
        "m = 10\n",
        "s = 50\n",
        "scipy.special.radian(d,m,s)"
      ],
      "execution_count": 22,
      "outputs": [
        {
          "output_type": "execute_result",
          "data": {
            "text/plain": [
              "0.5267500645255109"
            ]
          },
          "metadata": {
            "tags": []
          },
          "execution_count": 22
        }
      ]
    },
    {
      "cell_type": "code",
      "metadata": {
        "id": "HWlPQoMmrY5O",
        "colab_type": "code",
        "outputId": "31615b05-3c2b-41c2-dcba-993b23ec05a3",
        "colab": {
          "base_uri": "https://localhost:8080/",
          "height": 69
        }
      },
      "source": [
        "# Trigonometric Funtions (in degrees)\n",
        "print(\"Sine of 30 degrees = \",scipy.special.sindg(30))\n",
        "print(\"Cosine of 30 degrees = \",scipy.special.cosdg(30))\n",
        "print(\"Tangent of 30 degrees = \",scipy.special.tandg(30))\n"
      ],
      "execution_count": 23,
      "outputs": [
        {
          "output_type": "stream",
          "text": [
            "Sine of 30 degrees =  0.49999999999999994\n",
            "Cosine of 30 degrees =  0.8660254037844387\n",
            "Tangent of 30 degrees =  0.5773502691896257\n"
          ],
          "name": "stdout"
        }
      ]
    },
    {
      "cell_type": "code",
      "metadata": {
        "id": "lkUiTpZmrY1Y",
        "colab_type": "code",
        "outputId": "92c9e410-1c11-40fe-d023-7dfef8872450",
        "colab": {
          "base_uri": "https://localhost:8080/",
          "height": 35
        }
      },
      "source": [
        "# Permutation\n",
        "scipy.special.perm(5,2) #5P2 = 20"
      ],
      "execution_count": 24,
      "outputs": [
        {
          "output_type": "execute_result",
          "data": {
            "text/plain": [
              "20.0"
            ]
          },
          "metadata": {
            "tags": []
          },
          "execution_count": 24
        }
      ]
    },
    {
      "cell_type": "code",
      "metadata": {
        "id": "Tkn4kIm3rYza",
        "colab_type": "code",
        "outputId": "3498161a-245a-46fc-bd4a-032f7aedf317",
        "colab": {
          "base_uri": "https://localhost:8080/",
          "height": 35
        }
      },
      "source": [
        "# Combination\n",
        "scipy.special.comb(5,2) #5C2 = 10"
      ],
      "execution_count": 25,
      "outputs": [
        {
          "output_type": "execute_result",
          "data": {
            "text/plain": [
              "10.0"
            ]
          },
          "metadata": {
            "tags": []
          },
          "execution_count": 25
        }
      ]
    },
    {
      "cell_type": "markdown",
      "metadata": {
        "id": "GakHOhpvs7hV",
        "colab_type": "text"
      },
      "source": [
        "## 3) Integration (import scipy.integrate)"
      ]
    },
    {
      "cell_type": "markdown",
      "metadata": {
        "id": "P8bRT6lDtFXH",
        "colab_type": "text"
      },
      "source": [
        "### Numerous Types of Integration are available in scipy\n",
        "\n",
        "   1. quad - Single integration \n",
        "   2. dblquad - Double integration \n",
        "   3. tplquad - Triple integration \n",
        "   4. nquad  - n-fold multiple integration\n",
        "   5. and many more..."
      ]
    },
    {
      "cell_type": "code",
      "metadata": {
        "id": "Ptc5Y5m4vH6o",
        "colab_type": "code",
        "colab": {}
      },
      "source": [
        "import scipy.integrate"
      ],
      "execution_count": 0,
      "outputs": []
    },
    {
      "cell_type": "markdown",
      "metadata": {
        "id": "mbruD-xYvcrW",
        "colab_type": "text"
      },
      "source": [
        "#### Lambda Function in brief"
      ]
    },
    {
      "cell_type": "code",
      "metadata": {
        "id": "xRIickcxvU0b",
        "colab_type": "code",
        "outputId": "deeae1ff-3bbb-454a-c9ff-c3ea4437b7c8",
        "colab": {
          "base_uri": "https://localhost:8080/",
          "height": 35
        }
      },
      "source": [
        "f = lambda x : x**2\n",
        "f(3)"
      ],
      "execution_count": 27,
      "outputs": [
        {
          "output_type": "execute_result",
          "data": {
            "text/plain": [
              "9"
            ]
          },
          "metadata": {
            "tags": []
          },
          "execution_count": 27
        }
      ]
    },
    {
      "cell_type": "code",
      "metadata": {
        "id": "DfW6X_VvvUlk",
        "colab_type": "code",
        "outputId": "843ce278-adb9-4bb3-d108-b3acc70215d5",
        "colab": {
          "base_uri": "https://localhost:8080/",
          "height": 35
        }
      },
      "source": [
        "g = lambda x,y : x*y\n",
        "g(2,3)"
      ],
      "execution_count": 28,
      "outputs": [
        {
          "output_type": "execute_result",
          "data": {
            "text/plain": [
              "6"
            ]
          },
          "metadata": {
            "tags": []
          },
          "execution_count": 28
        }
      ]
    },
    {
      "cell_type": "code",
      "metadata": {
        "id": "OBhuqAjGwGGN",
        "colab_type": "code",
        "outputId": "02a7c117-a3ac-4447-a3ae-4b48d87b9051",
        "colab": {
          "base_uri": "https://localhost:8080/",
          "height": 35
        }
      },
      "source": [
        "h = lambda x,y : x**2 + 2*x*y + y**2 #(x+y)^2\n",
        "h(1,2)  #(1+2)^2"
      ],
      "execution_count": 29,
      "outputs": [
        {
          "output_type": "execute_result",
          "data": {
            "text/plain": [
              "9"
            ]
          },
          "metadata": {
            "tags": []
          },
          "execution_count": 29
        }
      ]
    },
    {
      "cell_type": "code",
      "metadata": {
        "id": "EhXRIKCHxHkD",
        "colab_type": "code",
        "colab": {}
      },
      "source": [
        "# scipy.integrate.quad(func, lower_limit, upper_limit)"
      ],
      "execution_count": 0,
      "outputs": []
    },
    {
      "cell_type": "code",
      "metadata": {
        "id": "o4CujjzOw-QQ",
        "colab_type": "code",
        "outputId": "b4d980cf-5f56-4480-cfad-c788ed5433b8",
        "colab": {
          "base_uri": "https://localhost:8080/",
          "height": 35
        }
      },
      "source": [
        "f = lambda x : x**3\n",
        "i = scipy.integrate.quad(f, 1, 2)\n",
        "i"
      ],
      "execution_count": 31,
      "outputs": [
        {
          "output_type": "execute_result",
          "data": {
            "text/plain": [
              "(3.7500000000000004, 4.1633363423443377e-14)"
            ]
          },
          "metadata": {
            "tags": []
          },
          "execution_count": 31
        }
      ]
    },
    {
      "cell_type": "code",
      "metadata": {
        "id": "NSmn0KJHwrH4",
        "colab_type": "code",
        "outputId": "02c87ce0-b03a-4bdd-f758-7aba28095b94",
        "colab": {
          "base_uri": "https://localhost:8080/",
          "height": 35
        }
      },
      "source": [
        "from numpy import exp\n",
        "f= lambda x:exp(-x**3)\n",
        "i = scipy.integrate.quad(f, 1, 4)\n",
        "i"
      ],
      "execution_count": 32,
      "outputs": [
        {
          "output_type": "execute_result",
          "data": {
            "text/plain": [
              "(0.08546832942957776, 2.1640276156712023e-12)"
            ]
          },
          "metadata": {
            "tags": []
          },
          "execution_count": 32
        }
      ]
    },
    {
      "cell_type": "code",
      "metadata": {
        "id": "2xMiyTQuiFvi",
        "colab_type": "code",
        "outputId": "4da029a9-9ed8-4369-d10e-4c163c0075ba",
        "colab": {
          "base_uri": "https://localhost:8080/",
          "height": 35
        }
      },
      "source": [
        "# Double Integration (Used for area under curve)\n",
        "\n",
        "#scipy.integrate.dblquad(func, lower_limit, upper_limit, func2, func3)\n",
        "area = scipy.integrate.dblquad(lambda x, y: x*y, 0, 0.5, lambda x: 0, lambda y: 1-2*y)\n",
        "area"
      ],
      "execution_count": 33,
      "outputs": [
        {
          "output_type": "execute_result",
          "data": {
            "text/plain": [
              "(0.010416666666666668, 4.101620128472366e-16)"
            ]
          },
          "metadata": {
            "tags": []
          },
          "execution_count": 33
        }
      ]
    },
    {
      "cell_type": "markdown",
      "metadata": {
        "id": "J8rxlXY4p6dk",
        "colab_type": "text"
      },
      "source": [
        "## 4) Linear Algebra (import scipy.linalg)"
      ]
    },
    {
      "cell_type": "code",
      "metadata": {
        "id": "iZQVHA8JZot5",
        "colab_type": "code",
        "colab": {}
      },
      "source": [
        "from scipy import linalg"
      ],
      "execution_count": 0,
      "outputs": []
    },
    {
      "cell_type": "code",
      "metadata": {
        "id": "Zr2YnM9Hqpca",
        "colab_type": "code",
        "colab": {}
      },
      "source": [
        "import numpy as np"
      ],
      "execution_count": 0,
      "outputs": []
    },
    {
      "cell_type": "code",
      "metadata": {
        "id": "nAGivflOq1Fr",
        "colab_type": "code",
        "colab": {
          "base_uri": "https://localhost:8080/",
          "height": 52
        },
        "outputId": "348ae339-aad4-4b1b-f10e-3184870d27d0"
      },
      "source": [
        "a1 = np.array([[1,2],[3,4]])\n",
        "a1"
      ],
      "execution_count": 73,
      "outputs": [
        {
          "output_type": "execute_result",
          "data": {
            "text/plain": [
              "array([[1, 2],\n",
              "       [3, 4]])"
            ]
          },
          "metadata": {
            "tags": []
          },
          "execution_count": 73
        }
      ]
    },
    {
      "cell_type": "code",
      "metadata": {
        "id": "A8_qk2hKZot9",
        "colab_type": "code",
        "outputId": "240c9e02-14f8-49cd-be01-bfeba57fc71b",
        "colab": {
          "base_uri": "https://localhost:8080/",
          "height": 35
        }
      },
      "source": [
        "# Determinant of a matrix\n",
        "linalg.det(a1)"
      ],
      "execution_count": 76,
      "outputs": [
        {
          "output_type": "execute_result",
          "data": {
            "text/plain": [
              "-2.0"
            ]
          },
          "metadata": {
            "tags": []
          },
          "execution_count": 76
        }
      ]
    },
    {
      "cell_type": "markdown",
      "metadata": {
        "id": "FC6IcPCCZouI",
        "colab_type": "text"
      },
      "source": [
        "Compute pivoted LU decomposition of a matrix.\n",
        "\n",
        "The decomposition is::\n",
        "\n",
        "    A = P L U\n",
        "\n",
        "where P is a permutation matrix, L lower triangular with unit\n",
        "diagonal elements, and U upper triangular."
      ]
    },
    {
      "cell_type": "code",
      "metadata": {
        "id": "aYtU2t8UrIqP",
        "colab_type": "code",
        "colab": {
          "base_uri": "https://localhost:8080/",
          "height": 69
        },
        "outputId": "27594e01-b81a-4ea7-ec60-a36f744c20b1"
      },
      "source": [
        "A = np.array([[1,2,3],[4,5,6],[7,8,8]])\n",
        "A"
      ],
      "execution_count": 78,
      "outputs": [
        {
          "output_type": "execute_result",
          "data": {
            "text/plain": [
              "array([[1, 2, 3],\n",
              "       [4, 5, 6],\n",
              "       [7, 8, 8]])"
            ]
          },
          "metadata": {
            "tags": []
          },
          "execution_count": 78
        }
      ]
    },
    {
      "cell_type": "code",
      "metadata": {
        "id": "5cbO7pr-ZouJ",
        "colab_type": "code",
        "colab": {}
      },
      "source": [
        "P, L, U = linalg.lu(A)"
      ],
      "execution_count": 0,
      "outputs": []
    },
    {
      "cell_type": "code",
      "metadata": {
        "id": "qaWAMd8yZouN",
        "colab_type": "code",
        "outputId": "5dc37105-7df3-43f3-84ae-b967bb24045a",
        "colab": {
          "base_uri": "https://localhost:8080/",
          "height": 69
        }
      },
      "source": [
        "P"
      ],
      "execution_count": 80,
      "outputs": [
        {
          "output_type": "execute_result",
          "data": {
            "text/plain": [
              "array([[0., 1., 0.],\n",
              "       [0., 0., 1.],\n",
              "       [1., 0., 0.]])"
            ]
          },
          "metadata": {
            "tags": []
          },
          "execution_count": 80
        }
      ]
    },
    {
      "cell_type": "code",
      "metadata": {
        "id": "D9GzuNwUZouR",
        "colab_type": "code",
        "outputId": "31ae7a4f-a374-4896-f7f5-3a46f839f3d8",
        "colab": {
          "base_uri": "https://localhost:8080/",
          "height": 69
        }
      },
      "source": [
        "L"
      ],
      "execution_count": 81,
      "outputs": [
        {
          "output_type": "execute_result",
          "data": {
            "text/plain": [
              "array([[1.        , 0.        , 0.        ],\n",
              "       [0.14285714, 1.        , 0.        ],\n",
              "       [0.57142857, 0.5       , 1.        ]])"
            ]
          },
          "metadata": {
            "tags": []
          },
          "execution_count": 81
        }
      ]
    },
    {
      "cell_type": "code",
      "metadata": {
        "id": "swbkpJbLZouW",
        "colab_type": "code",
        "outputId": "78b5a92b-b464-4a5e-a792-35bc1940eafb",
        "colab": {
          "base_uri": "https://localhost:8080/",
          "height": 69
        }
      },
      "source": [
        "U"
      ],
      "execution_count": 82,
      "outputs": [
        {
          "output_type": "execute_result",
          "data": {
            "text/plain": [
              "array([[7.        , 8.        , 8.        ],\n",
              "       [0.        , 0.85714286, 1.85714286],\n",
              "       [0.        , 0.        , 0.5       ]])"
            ]
          },
          "metadata": {
            "tags": []
          },
          "execution_count": 82
        }
      ]
    },
    {
      "cell_type": "markdown",
      "metadata": {
        "id": "G6ITeJDJZoud",
        "colab_type": "text"
      },
      "source": [
        "We can find out the eigenvector and eigenvalues of a matrix:"
      ]
    },
    {
      "cell_type": "code",
      "metadata": {
        "id": "3loowADHZouf",
        "colab_type": "code",
        "colab": {}
      },
      "source": [
        "EV, EW = linalg.eig(A)"
      ],
      "execution_count": 0,
      "outputs": []
    },
    {
      "cell_type": "code",
      "metadata": {
        "id": "FEV9bt6hZoum",
        "colab_type": "code",
        "outputId": "942a1b99-ec0a-4896-c71c-090320cca9ee",
        "colab": {
          "base_uri": "https://localhost:8080/",
          "height": 35
        }
      },
      "source": [
        "#Eigen Values\n",
        "EV"
      ],
      "execution_count": 100,
      "outputs": [
        {
          "output_type": "execute_result",
          "data": {
            "text/plain": [
              "array([15.55528261+0.j, -1.41940876+0.j, -0.13587385+0.j])"
            ]
          },
          "metadata": {
            "tags": []
          },
          "execution_count": 100
        }
      ]
    },
    {
      "cell_type": "code",
      "metadata": {
        "id": "X0CMdqVzZouq",
        "colab_type": "code",
        "outputId": "e1161fa0-d7a5-4ebf-8258-612c7a2ab3ed",
        "colab": {
          "base_uri": "https://localhost:8080/",
          "height": 69
        }
      },
      "source": [
        "#Eigen Vectors\n",
        "EW"
      ],
      "execution_count": 101,
      "outputs": [
        {
          "output_type": "execute_result",
          "data": {
            "text/plain": [
              "array([[-0.24043423, -0.67468642,  0.51853459],\n",
              "       [-0.54694322, -0.23391616, -0.78895962],\n",
              "       [-0.80190056,  0.70005819,  0.32964312]])"
            ]
          },
          "metadata": {
            "tags": []
          },
          "execution_count": 101
        }
      ]
    },
    {
      "cell_type": "markdown",
      "metadata": {
        "id": "pTuP9SRKZous",
        "colab_type": "text"
      },
      "source": [
        "Solving systems of linear equations can also be done:"
      ]
    },
    {
      "cell_type": "code",
      "metadata": {
        "id": "GbbnLw3MZout",
        "colab_type": "code",
        "colab": {
          "base_uri": "https://localhost:8080/",
          "height": 69
        },
        "outputId": "2d87cee2-438a-483c-ade0-9e23a058194e"
      },
      "source": [
        "B = np.array([[2],[3],[5]])\n",
        "B"
      ],
      "execution_count": 90,
      "outputs": [
        {
          "output_type": "execute_result",
          "data": {
            "text/plain": [
              "array([[2],\n",
              "       [3],\n",
              "       [5]])"
            ]
          },
          "metadata": {
            "tags": []
          },
          "execution_count": 90
        }
      ]
    },
    {
      "cell_type": "code",
      "metadata": {
        "id": "UjENHu4arudU",
        "colab_type": "code",
        "colab": {
          "base_uri": "https://localhost:8080/",
          "height": 69
        },
        "outputId": "dafc189a-54f3-40a6-bf6c-00a0a1d52aa9"
      },
      "source": [
        "A"
      ],
      "execution_count": 91,
      "outputs": [
        {
          "output_type": "execute_result",
          "data": {
            "text/plain": [
              "array([[1, 2, 3],\n",
              "       [4, 5, 6],\n",
              "       [7, 8, 8]])"
            ]
          },
          "metadata": {
            "tags": []
          },
          "execution_count": 91
        }
      ]
    },
    {
      "cell_type": "code",
      "metadata": {
        "id": "qFmzrTvIZou0",
        "colab_type": "code",
        "colab": {}
      },
      "source": [
        "#Solve Linear Equation using Matrix (AX=B)\n",
        "#linalg.solve()\n",
        "\n",
        "X = linalg.solve(A,B)\n"
      ],
      "execution_count": 0,
      "outputs": []
    },
    {
      "cell_type": "code",
      "metadata": {
        "id": "8rZ-rQa7Zou3",
        "colab_type": "code",
        "outputId": "7b76c514-d458-45dc-fea2-a69fb14a8df4",
        "colab": {
          "base_uri": "https://localhost:8080/",
          "height": 69
        }
      },
      "source": [
        "X    #Solution : (7/3, 11/3, 1)"
      ],
      "execution_count": 103,
      "outputs": [
        {
          "output_type": "execute_result",
          "data": {
            "text/plain": [
              "array([[-2.33333333],\n",
              "       [ 3.66666667],\n",
              "       [-1.        ]])"
            ]
          },
          "metadata": {
            "tags": []
          },
          "execution_count": 103
        }
      ]
    },
    {
      "cell_type": "markdown",
      "metadata": {
        "id": "5Ez0Jbg7uDRF",
        "colab_type": "text"
      },
      "source": [
        "#### Inverse of a matrix"
      ]
    },
    {
      "cell_type": "code",
      "metadata": {
        "id": "-SLYGx11ZoYN",
        "colab_type": "code",
        "outputId": "ae55d2c5-ef5b-4f5b-ec43-65bfae30455d",
        "colab": {
          "base_uri": "https://localhost:8080/",
          "height": 69
        }
      },
      "source": [
        "A = np.array([[1,3,5],[2,5,1],[2,3,8]])\n",
        "A"
      ],
      "execution_count": 104,
      "outputs": [
        {
          "output_type": "execute_result",
          "data": {
            "text/plain": [
              "array([[1, 3, 5],\n",
              "       [2, 5, 1],\n",
              "       [2, 3, 8]])"
            ]
          },
          "metadata": {
            "tags": []
          },
          "execution_count": 104
        }
      ]
    },
    {
      "cell_type": "code",
      "metadata": {
        "id": "gbq5eouFZoYR",
        "colab_type": "code",
        "outputId": "e367b826-ca96-4997-d79e-216f59e6dabe",
        "colab": {
          "base_uri": "https://localhost:8080/",
          "height": 69
        }
      },
      "source": [
        "#Inverse : linalg.inv()\n",
        "\n",
        "linalg.inv(A)"
      ],
      "execution_count": 106,
      "outputs": [
        {
          "output_type": "execute_result",
          "data": {
            "text/plain": [
              "array([[-1.48,  0.36,  0.88],\n",
              "       [ 0.56,  0.08, -0.36],\n",
              "       [ 0.16, -0.12,  0.04]])"
            ]
          },
          "metadata": {
            "tags": []
          },
          "execution_count": 106
        }
      ]
    },
    {
      "cell_type": "code",
      "metadata": {
        "id": "Pwl9Bi70ZoYU",
        "colab_type": "code",
        "outputId": "8da3bb1f-f67d-4f2d-c8b3-047bcc657aa8",
        "colab": {
          "base_uri": "https://localhost:8080/",
          "height": 69
        }
      },
      "source": [
        "#Cross Check\n",
        "# A * inv(A) = I\n",
        "\n",
        "I = A.dot(linalg.inv(A))\n",
        "print(np.around(I))"
      ],
      "execution_count": 109,
      "outputs": [
        {
          "output_type": "stream",
          "text": [
            "[[ 1. -0.  0.]\n",
            " [ 0.  1.  0.]\n",
            " [ 0. -0.  1.]]\n"
          ],
          "name": "stdout"
        }
      ]
    },
    {
      "cell_type": "markdown",
      "metadata": {
        "colab_type": "text",
        "id": "NgM24HhCz9sR"
      },
      "source": [
        "## 5) Fourier Transformation (import scipy.fftpack)"
      ]
    },
    {
      "cell_type": "markdown",
      "metadata": {
        "id": "STNat5oI0mea",
        "colab_type": "text"
      },
      "source": [
        "#### What is Fourier Transformation\n",
        "The Fourier Transform is a tool that breaks a waveform (a function or signal) into an alternate representation, characterized by sine and cosines. The Fourier Transform shows that any waveform can be re-written as the sum of sinusoidal functions.\n",
        "\n",
        "There are two major functions of fftpack :\n",
        "- fft : fast fourier transformation\n",
        "- ifft : inverse fast fourier transformation"
      ]
    },
    {
      "cell_type": "code",
      "metadata": {
        "id": "LF4YBZaErYkS",
        "colab_type": "code",
        "colab": {}
      },
      "source": [
        "import scipy.fftpack"
      ],
      "execution_count": 0,
      "outputs": []
    },
    {
      "cell_type": "code",
      "metadata": {
        "id": "YYRFJMV2rYh8",
        "colab_type": "code",
        "outputId": "93eaf76b-2901-45d7-9b86-bc9045c7425f",
        "colab": {
          "base_uri": "https://localhost:8080/",
          "height": 35
        }
      },
      "source": [
        "import numpy as np\n",
        "a = np.array([1,5,6,14,25,40])\n",
        "a"
      ],
      "execution_count": 35,
      "outputs": [
        {
          "output_type": "execute_result",
          "data": {
            "text/plain": [
              "array([ 1,  5,  6, 14, 25, 40])"
            ]
          },
          "metadata": {
            "tags": []
          },
          "execution_count": 35
        }
      ]
    },
    {
      "cell_type": "code",
      "metadata": {
        "id": "ieCpxVys22q1",
        "colab_type": "code",
        "outputId": "e45994e7-1b0a-40c8-ef09-444d34f2fe27",
        "colab": {
          "base_uri": "https://localhost:8080/",
          "height": 52
        }
      },
      "source": [
        "# Fourier Transform\n",
        "y = scipy.fftpack.fft(a)\n",
        "y"
      ],
      "execution_count": 36,
      "outputs": [
        {
          "output_type": "execute_result",
          "data": {
            "text/plain": [
              "array([ 91. -0.j        ,  -6.+46.7653718j , -23.+13.85640646j,\n",
              "       -27. -0.j        , -23.-13.85640646j,  -6.-46.7653718j ])"
            ]
          },
          "metadata": {
            "tags": []
          },
          "execution_count": 36
        }
      ]
    },
    {
      "cell_type": "code",
      "metadata": {
        "id": "9gIkP4uK22nk",
        "colab_type": "code",
        "outputId": "1bfe9973-ebc5-44f3-985f-6e41c9929ca9",
        "colab": {
          "base_uri": "https://localhost:8080/",
          "height": 69
        }
      },
      "source": [
        "# Inverse Fourier Transform\n",
        "invy = scipy.fftpack.ifft(a)\n",
        "invy"
      ],
      "execution_count": 37,
      "outputs": [
        {
          "output_type": "execute_result",
          "data": {
            "text/plain": [
              "array([15.16666667-0.j        , -1.        -7.79422863j,\n",
              "       -3.83333333-2.30940108j, -4.5       -0.j        ,\n",
              "       -3.83333333+2.30940108j, -1.        +7.79422863j])"
            ]
          },
          "metadata": {
            "tags": []
          },
          "execution_count": 37
        }
      ]
    },
    {
      "cell_type": "code",
      "metadata": {
        "id": "SzzAhzD122lV",
        "colab_type": "code",
        "outputId": "bb219caa-256f-4c1d-fd93-84f6f89ce32a",
        "colab": {
          "base_uri": "https://localhost:8080/",
          "height": 69
        }
      },
      "source": [
        "# Cross Verification\n",
        "i = scipy.fftpack.fft(invy)\n",
        "print(i)\n",
        "print()\n",
        "print(a)"
      ],
      "execution_count": 38,
      "outputs": [
        {
          "output_type": "stream",
          "text": [
            "[ 1.+0.j  5.+0.j  6.-0.j 14.+0.j 25.+0.j 40.+0.j]\n",
            "\n",
            "[ 1  5  6 14 25 40]\n"
          ],
          "name": "stdout"
        }
      ]
    },
    {
      "cell_type": "markdown",
      "metadata": {
        "colab_type": "text",
        "id": "I2L12Mon4Bj8"
      },
      "source": [
        "## 6) Interpolation (import scipy.interpolate)"
      ]
    },
    {
      "cell_type": "markdown",
      "metadata": {
        "colab_type": "text",
        "id": "8c9HoTpi4Bj-"
      },
      "source": [
        "#### What is Interpolation\n",
        "interpolation is a type of estimation, a method of constructing new data points within the range of a discrete set of known data points.\n",
        "\n",
        "Polynomial interpolation is a method of estimating values between known data points."
      ]
    },
    {
      "cell_type": "code",
      "metadata": {
        "id": "WHjdkDEU4KFa",
        "colab_type": "code",
        "colab": {}
      },
      "source": [
        "from scipy.interpolate import interp1d\n",
        "import numpy as np"
      ],
      "execution_count": 0,
      "outputs": []
    },
    {
      "cell_type": "code",
      "metadata": {
        "id": "n7IaCpNk4KFs",
        "colab_type": "code",
        "outputId": "59290110-bf64-4ee7-e60e-1bb670fc77f3",
        "colab": {
          "base_uri": "https://localhost:8080/",
          "height": 265
        }
      },
      "source": [
        "x = np.arange(0, 6, 1)\n",
        "y = np.array([0.1, 0.2, 0.3, 0.5, 1.0, 0.9])\n",
        "\n",
        "xp = np.linspace(0, 5, 100)\n",
        "\n",
        "import matplotlib.pyplot as plt\n",
        "plt.plot(x, y, 'bo')\n",
        "\n",
        "# for linear interpolation\n",
        "y1 = interp1d(x, y, kind='linear')\n",
        "plt.plot(xp, y1(xp), 'r-')\n",
        "\n",
        "# for quadratic interpolation\n",
        "y2 = interp1d(x, y, kind='quadratic')\n",
        "plt.plot(xp, y2(xp), 'b--')\n",
        "\n",
        "# y3 = interp1d(x, y, kind='cubic')\n",
        "# plt.plot(xp, y3(xp), 'g+')\n",
        "\n",
        "plt.legend([\"Points\",\"Linear\",\"Quadratic\"])\n",
        "plt.show()"
      ],
      "execution_count": 141,
      "outputs": [
        {
          "output_type": "display_data",
          "data": {
            "image/png": "[encoded data removed]",
            "text/plain": [
              "<Figure size 432x288 with 1 Axes>"
            ]
          },
          "metadata": {
            "tags": [],
            "needs_background": "light"
          }
        }
      ]
    },
    {
      "cell_type": "markdown",
      "metadata": {
        "id": "Y0Mv2lAC6-7a",
        "colab_type": "text"
      },
      "source": [
        "## 7) Statistics (import scipy.stats)"
      ]
    },
    {
      "cell_type": "markdown",
      "metadata": {
        "id": "qJ8BrnFikHFT",
        "colab_type": "text"
      },
      "source": [
        "### Common Methods\n",
        "\n",
        "The main public methods for continuous RVs are:\n",
        "\n",
        "- rvs: Random Variates\n",
        "- pdf: Probability Density Function\n",
        "- cdf: Cumulative Distribution Function\n",
        "- sf: Survival Function (1-CDF)\n",
        "- ppf: Percent Point Function (Inverse of CDF)\n",
        "- isf: Inverse Survival Function (Inverse of SF)\n",
        "- stats: Return mean, variance, (Fisher’s) skew, or (Fisher’s) kurtosis\n",
        "- moment: non-central moments of the distribution\n",
        "\n",
        "Let’s take a normal RV as an example. "
      ]
    },
    {
      "cell_type": "markdown",
      "metadata": {
        "collapsed": true,
        "id": "o0mLU84S6i3x",
        "colab_type": "text"
      },
      "source": [
        "### Probability Distributions"
      ]
    },
    {
      "cell_type": "code",
      "metadata": {
        "id": "8qrvB4iO6i3y",
        "colab_type": "code",
        "colab": {}
      },
      "source": [
        "from scipy.stats import norm"
      ],
      "execution_count": 0,
      "outputs": []
    },
    {
      "cell_type": "code",
      "metadata": {
        "id": "iGWAhcmq6i33",
        "colab_type": "code",
        "outputId": "de311181-0ced-4f1b-d96a-211e0827add8",
        "colab": {
          "base_uri": "https://localhost:8080/",
          "height": 35
        }
      },
      "source": [
        "#this gives you a numpy array with 500 elements, \n",
        "#randomly valued according to the standard normal distribution (mean = 0, std =1)\n",
        "x_norm = norm.rvs(size = 500)\n",
        "print(type(x_norm))"
      ],
      "execution_count": 42,
      "outputs": [
        {
          "output_type": "stream",
          "text": [
            "<class 'numpy.ndarray'>\n"
          ],
          "name": "stdout"
        }
      ]
    },
    {
      "cell_type": "code",
      "metadata": {
        "id": "EnitenpgDJ0u",
        "colab_type": "code",
        "outputId": "da4b07a5-a4c0-4f4c-b409-ea08478f23d7",
        "colab": {
          "base_uri": "https://localhost:8080/",
          "height": 35
        }
      },
      "source": [
        "norm.mean(), norm.std(), norm.var() #Mean = 0, std = 1"
      ],
      "execution_count": 43,
      "outputs": [
        {
          "output_type": "execute_result",
          "data": {
            "text/plain": [
              "(0.0, 1.0, 1.0)"
            ]
          },
          "metadata": {
            "tags": []
          },
          "execution_count": 43
        }
      ]
    },
    {
      "cell_type": "code",
      "metadata": {
        "id": "L4wWOyzQ6i4f",
        "colab_type": "code",
        "colab": {
          "base_uri": "https://localhost:8080/",
          "height": 52
        },
        "outputId": "fb5ea8f6-485f-41f2-ba7a-3ac1acc62b4e"
      },
      "source": [
        "#CDF\n",
        "import numpy as np\n",
        "norm.cdf(np.array([1,-1., 0, 1, 3, 4, -2, 6])) #Continous Distribution Function"
      ],
      "execution_count": 45,
      "outputs": [
        {
          "output_type": "execute_result",
          "data": {
            "text/plain": [
              "array([0.84134475, 0.15865525, 0.5       , 0.84134475, 0.9986501 ,\n",
              "       0.99996833, 0.02275013, 1.        ])"
            ]
          },
          "metadata": {
            "tags": []
          },
          "execution_count": 45
        }
      ]
    },
    {
      "cell_type": "code",
      "metadata": {
        "id": "hEnQmr8C4Asg",
        "colab_type": "code",
        "colab": {
          "base_uri": "https://localhost:8080/",
          "height": 35
        },
        "outputId": "37e73c60-0295-4f3a-99fa-00d81d0c60c7"
      },
      "source": [
        "#PPF\n",
        "# It is reverse of CDF\n",
        "norm.ppf(0.5)   #Percent Point Function"
      ],
      "execution_count": 52,
      "outputs": [
        {
          "output_type": "execute_result",
          "data": {
            "text/plain": [
              "0.0"
            ]
          },
          "metadata": {
            "tags": []
          },
          "execution_count": 52
        }
      ]
    },
    {
      "cell_type": "code",
      "metadata": {
        "id": "rEOqDC2O4ApD",
        "colab_type": "code",
        "colab": {
          "base_uri": "https://localhost:8080/",
          "height": 35
        },
        "outputId": "bcc1e7f9-55ef-4d1c-8c69-14d96e222df4"
      },
      "source": [
        "x = np.array([1,2,3,4,5,6,7,8,9])\n",
        "print(x.max(),x.min(),x.mean(),x.var(),sep=\",\")"
      ],
      "execution_count": 55,
      "outputs": [
        {
          "output_type": "stream",
          "text": [
            "9,1,5.0,6.666666666666667\n"
          ],
          "name": "stdout"
        }
      ]
    },
    {
      "cell_type": "code",
      "metadata": {
        "id": "rSsOPRMO22jE",
        "colab_type": "code",
        "colab": {
          "base_uri": "https://localhost:8080/",
          "height": 35
        },
        "outputId": "e47bc5a5-e1cb-4e1c-ee36-ad88791bde4f"
      },
      "source": [
        "#Geometric Mean\n",
        "from scipy.stats.mstats import gmean \n",
        "g = gmean([1, 5, 20]) \n",
        "\n",
        "print(\"Geometric Mean is :\", g) \n"
      ],
      "execution_count": 56,
      "outputs": [
        {
          "output_type": "stream",
          "text": [
            "Geometric Mean is : 4.641588833612778\n"
          ],
          "name": "stdout"
        }
      ]
    },
    {
      "cell_type": "code",
      "metadata": {
        "id": "L6Cqh1cU22hW",
        "colab_type": "code",
        "colab": {
          "base_uri": "https://localhost:8080/",
          "height": 35
        },
        "outputId": "1d08f038-1e7d-4575-ad2d-1ca6ae7f6e80"
      },
      "source": [
        "#Harmonic Mean\n",
        "from scipy.stats.mstats import hmean \n",
        "h = hmean([1, 5, 20]) \n",
        "\n",
        "print(\"Harmonic Mean is :\", h)"
      ],
      "execution_count": 57,
      "outputs": [
        {
          "output_type": "stream",
          "text": [
            "Harmonic Mean is : 2.4\n"
          ],
          "name": "stdout"
        }
      ]
    },
    {
      "cell_type": "code",
      "metadata": {
        "id": "gzuNrwKJ22e5",
        "colab_type": "code",
        "colab": {
          "base_uri": "https://localhost:8080/",
          "height": 35
        },
        "outputId": "bdd7ee30-1819-4845-ecae-9ee14910b5a6"
      },
      "source": [
        "#Mode \n",
        "from scipy import stats\n",
        "arr1 = np.array([1, 3, 15, 11, 9, 3]) \n",
        "print(\"Arithmetic mode is : \", stats.mode(arr1)) \n"
      ],
      "execution_count": 65,
      "outputs": [
        {
          "output_type": "stream",
          "text": [
            "Arithmetic mode is :  ModeResult(mode=array([3]), count=array([2]))\n"
          ],
          "name": "stdout"
        }
      ]
    },
    {
      "cell_type": "code",
      "metadata": {
        "id": "JC0Yv7pFno_O",
        "colab_type": "code",
        "colab": {
          "base_uri": "https://localhost:8080/",
          "height": 52
        },
        "outputId": "ffc21a0c-907e-4b62-ea19-a664aac87db3"
      },
      "source": [
        "#Z-Score\t\n",
        "arr1 = [20, 2, 7, 1, 25] \n",
        "\n",
        "print (\"\\nZ-score for arr1 : \", stats.zscore(arr1)) \n"
      ],
      "execution_count": 71,
      "outputs": [
        {
          "output_type": "stream",
          "text": [
            "\n",
            "Z-score for arr1 :  [ 0.92435403 -0.92435403 -0.41082402 -1.02706004  1.43788405]\n"
          ],
          "name": "stdout"
        }
      ]
    },
    {
      "cell_type": "markdown",
      "metadata": {
        "id": "WNLueiMevWoh",
        "colab_type": "text"
      },
      "source": [
        "## 8) Miscellaneous"
      ]
    },
    {
      "cell_type": "markdown",
      "metadata": {
        "id": "WriXWEgzvkIG",
        "colab_type": "text"
      },
      "source": [
        "#### Scientific Contants"
      ]
    },
    {
      "cell_type": "code",
      "metadata": {
        "id": "88VikpQEno6J",
        "colab_type": "code",
        "colab": {
          "base_uri": "https://localhost:8080/",
          "height": 1000
        },
        "outputId": "9628be69-1761-4d52-bcfc-9143913d79d5"
      },
      "source": [
        "scipy.constants.find()"
      ],
      "execution_count": 110,
      "outputs": [
        {
          "output_type": "execute_result",
          "data": {
            "text/plain": [
              "['Angstrom star',\n",
              " 'Avogadro constant',\n",
              " 'Bohr magneton',\n",
              " 'Bohr magneton in Hz/T',\n",
              " 'Bohr magneton in K/T',\n",
              " 'Bohr magneton in eV/T',\n",
              " 'Bohr magneton in inverse meter per tesla',\n",
              " 'Bohr radius',\n",
              " 'Boltzmann constant',\n",
              " 'Boltzmann constant in Hz/K',\n",
              " 'Boltzmann constant in eV/K',\n",
              " 'Boltzmann constant in inverse meter per kelvin',\n",
              " 'Compton wavelength',\n",
              " 'Cu x unit',\n",
              " 'Faraday constant',\n",
              " 'Fermi coupling constant',\n",
              " 'Hartree energy',\n",
              " 'Hartree energy in eV',\n",
              " 'Josephson constant',\n",
              " 'Loschmidt constant (273.15 K, 100 kPa)',\n",
              " 'Loschmidt constant (273.15 K, 101.325 kPa)',\n",
              " 'Mo x unit',\n",
              " 'Newtonian constant of gravitation',\n",
              " 'Newtonian constant of gravitation over h-bar c',\n",
              " 'Planck constant',\n",
              " 'Planck constant in eV/Hz',\n",
              " 'Planck length',\n",
              " 'Planck mass',\n",
              " 'Planck mass energy equivalent in GeV',\n",
              " 'Planck temperature',\n",
              " 'Planck time',\n",
              " 'Rydberg constant',\n",
              " 'Rydberg constant times c in Hz',\n",
              " 'Rydberg constant times hc in J',\n",
              " 'Rydberg constant times hc in eV',\n",
              " 'Sackur-Tetrode constant (1 K, 100 kPa)',\n",
              " 'Sackur-Tetrode constant (1 K, 101.325 kPa)',\n",
              " 'Stefan-Boltzmann constant',\n",
              " 'Thomson cross section',\n",
              " 'W to Z mass ratio',\n",
              " 'Wien frequency displacement law constant',\n",
              " 'Wien wavelength displacement law constant',\n",
              " 'alpha particle mass',\n",
              " 'alpha particle mass energy equivalent',\n",
              " 'alpha particle mass energy equivalent in MeV',\n",
              " 'alpha particle mass in u',\n",
              " 'alpha particle molar mass',\n",
              " 'alpha particle relative atomic mass',\n",
              " 'alpha particle-electron mass ratio',\n",
              " 'alpha particle-proton mass ratio',\n",
              " 'atomic mass constant',\n",
              " 'atomic mass constant energy equivalent',\n",
              " 'atomic mass constant energy equivalent in MeV',\n",
              " 'atomic mass unit-electron volt relationship',\n",
              " 'atomic mass unit-hartree relationship',\n",
              " 'atomic mass unit-hertz relationship',\n",
              " 'atomic mass unit-inverse meter relationship',\n",
              " 'atomic mass unit-joule relationship',\n",
              " 'atomic mass unit-kelvin relationship',\n",
              " 'atomic mass unit-kilogram relationship',\n",
              " 'atomic unit of 1st hyperpolarizability',\n",
              " 'atomic unit of 2nd hyperpolarizability',\n",
              " 'atomic unit of action',\n",
              " 'atomic unit of charge',\n",
              " 'atomic unit of charge density',\n",
              " 'atomic unit of current',\n",
              " 'atomic unit of electric dipole mom.',\n",
              " 'atomic unit of electric field',\n",
              " 'atomic unit of electric field gradient',\n",
              " 'atomic unit of electric polarizability',\n",
              " 'atomic unit of electric potential',\n",
              " 'atomic unit of electric quadrupole mom.',\n",
              " 'atomic unit of energy',\n",
              " 'atomic unit of force',\n",
              " 'atomic unit of length',\n",
              " 'atomic unit of mag. dipole mom.',\n",
              " 'atomic unit of mag. flux density',\n",
              " 'atomic unit of magnetizability',\n",
              " 'atomic unit of mass',\n",
              " 'atomic unit of momentum',\n",
              " 'atomic unit of permittivity',\n",
              " 'atomic unit of time',\n",
              " 'atomic unit of velocity',\n",
              " 'classical electron radius',\n",
              " 'conductance quantum',\n",
              " 'conventional value of Josephson constant',\n",
              " 'conventional value of ampere-90',\n",
              " 'conventional value of coulomb-90',\n",
              " 'conventional value of farad-90',\n",
              " 'conventional value of henry-90',\n",
              " 'conventional value of ohm-90',\n",
              " 'conventional value of volt-90',\n",
              " 'conventional value of von Klitzing constant',\n",
              " 'conventional value of watt-90',\n",
              " 'deuteron g factor',\n",
              " 'deuteron mag. mom.',\n",
              " 'deuteron mag. mom. to Bohr magneton ratio',\n",
              " 'deuteron mag. mom. to nuclear magneton ratio',\n",
              " 'deuteron mass',\n",
              " 'deuteron mass energy equivalent',\n",
              " 'deuteron mass energy equivalent in MeV',\n",
              " 'deuteron mass in u',\n",
              " 'deuteron molar mass',\n",
              " 'deuteron relative atomic mass',\n",
              " 'deuteron rms charge radius',\n",
              " 'deuteron-electron mag. mom. ratio',\n",
              " 'deuteron-electron mass ratio',\n",
              " 'deuteron-neutron mag. mom. ratio',\n",
              " 'deuteron-proton mag. mom. ratio',\n",
              " 'deuteron-proton mass ratio',\n",
              " 'electron charge to mass quotient',\n",
              " 'electron g factor',\n",
              " 'electron gyromag. ratio',\n",
              " 'electron gyromag. ratio in MHz/T',\n",
              " 'electron mag. mom.',\n",
              " 'electron mag. mom. anomaly',\n",
              " 'electron mag. mom. to Bohr magneton ratio',\n",
              " 'electron mag. mom. to nuclear magneton ratio',\n",
              " 'electron mass',\n",
              " 'electron mass energy equivalent',\n",
              " 'electron mass energy equivalent in MeV',\n",
              " 'electron mass in u',\n",
              " 'electron molar mass',\n",
              " 'electron relative atomic mass',\n",
              " 'electron to alpha particle mass ratio',\n",
              " 'electron to shielded helion mag. mom. ratio',\n",
              " 'electron to shielded proton mag. mom. ratio',\n",
              " 'electron volt',\n",
              " 'electron volt-atomic mass unit relationship',\n",
              " 'electron volt-hartree relationship',\n",
              " 'electron volt-hertz relationship',\n",
              " 'electron volt-inverse meter relationship',\n",
              " 'electron volt-joule relationship',\n",
              " 'electron volt-kelvin relationship',\n",
              " 'electron volt-kilogram relationship',\n",
              " 'electron-deuteron mag. mom. ratio',\n",
              " 'electron-deuteron mass ratio',\n",
              " 'electron-helion mass ratio',\n",
              " 'electron-muon mag. mom. ratio',\n",
              " 'electron-muon mass ratio',\n",
              " 'electron-neutron mag. mom. ratio',\n",
              " 'electron-neutron mass ratio',\n",
              " 'electron-proton mag. mom. ratio',\n",
              " 'electron-proton mass ratio',\n",
              " 'electron-tau mass ratio',\n",
              " 'electron-triton mass ratio',\n",
              " 'elementary charge',\n",
              " 'elementary charge over h-bar',\n",
              " 'fine-structure constant',\n",
              " 'first radiation constant',\n",
              " 'first radiation constant for spectral radiance',\n",
              " 'hartree-atomic mass unit relationship',\n",
              " 'hartree-electron volt relationship',\n",
              " 'hartree-hertz relationship',\n",
              " 'hartree-inverse meter relationship',\n",
              " 'hartree-joule relationship',\n",
              " 'hartree-kelvin relationship',\n",
              " 'hartree-kilogram relationship',\n",
              " 'helion g factor',\n",
              " 'helion mag. mom.',\n",
              " 'helion mag. mom. to Bohr magneton ratio',\n",
              " 'helion mag. mom. to nuclear magneton ratio',\n",
              " 'helion mass',\n",
              " 'helion mass energy equivalent',\n",
              " 'helion mass energy equivalent in MeV',\n",
              " 'helion mass in u',\n",
              " 'helion molar mass',\n",
              " 'helion relative atomic mass',\n",
              " 'helion shielding shift',\n",
              " 'helion-electron mass ratio',\n",
              " 'helion-proton mass ratio',\n",
              " 'hertz-atomic mass unit relationship',\n",
              " 'hertz-electron volt relationship',\n",
              " 'hertz-hartree relationship',\n",
              " 'hertz-inverse meter relationship',\n",
              " 'hertz-joule relationship',\n",
              " 'hertz-kelvin relationship',\n",
              " 'hertz-kilogram relationship',\n",
              " 'hyperfine transition frequency of Cs-133',\n",
              " 'inverse fine-structure constant',\n",
              " 'inverse meter-atomic mass unit relationship',\n",
              " 'inverse meter-electron volt relationship',\n",
              " 'inverse meter-hartree relationship',\n",
              " 'inverse meter-hertz relationship',\n",
              " 'inverse meter-joule relationship',\n",
              " 'inverse meter-kelvin relationship',\n",
              " 'inverse meter-kilogram relationship',\n",
              " 'inverse of conductance quantum',\n",
              " 'joule-atomic mass unit relationship',\n",
              " 'joule-electron volt relationship',\n",
              " 'joule-hartree relationship',\n",
              " 'joule-hertz relationship',\n",
              " 'joule-inverse meter relationship',\n",
              " 'joule-kelvin relationship',\n",
              " 'joule-kilogram relationship',\n",
              " 'kelvin-atomic mass unit relationship',\n",
              " 'kelvin-electron volt relationship',\n",
              " 'kelvin-hartree relationship',\n",
              " 'kelvin-hertz relationship',\n",
              " 'kelvin-inverse meter relationship',\n",
              " 'kelvin-joule relationship',\n",
              " 'kelvin-kilogram relationship',\n",
              " 'kilogram-atomic mass unit relationship',\n",
              " 'kilogram-electron volt relationship',\n",
              " 'kilogram-hartree relationship',\n",
              " 'kilogram-hertz relationship',\n",
              " 'kilogram-inverse meter relationship',\n",
              " 'kilogram-joule relationship',\n",
              " 'kilogram-kelvin relationship',\n",
              " 'lattice parameter of silicon',\n",
              " 'lattice spacing of ideal Si (220)',\n",
              " 'luminous efficacy',\n",
              " 'mag. flux quantum',\n",
              " 'molar Planck constant',\n",
              " 'molar gas constant',\n",
              " 'molar mass constant',\n",
              " 'molar mass of carbon-12',\n",
              " 'molar volume of ideal gas (273.15 K, 100 kPa)',\n",
              " 'molar volume of ideal gas (273.15 K, 101.325 kPa)',\n",
              " 'molar volume of silicon',\n",
              " 'muon Compton wavelength',\n",
              " 'muon g factor',\n",
              " 'muon mag. mom.',\n",
              " 'muon mag. mom. anomaly',\n",
              " 'muon mag. mom. to Bohr magneton ratio',\n",
              " 'muon mag. mom. to nuclear magneton ratio',\n",
              " 'muon mass',\n",
              " 'muon mass energy equivalent',\n",
              " 'muon mass energy equivalent in MeV',\n",
              " 'muon mass in u',\n",
              " 'muon molar mass',\n",
              " 'muon-electron mass ratio',\n",
              " 'muon-neutron mass ratio',\n",
              " 'muon-proton mag. mom. ratio',\n",
              " 'muon-proton mass ratio',\n",
              " 'muon-tau mass ratio',\n",
              " 'natural unit of action',\n",
              " 'natural unit of action in eV s',\n",
              " 'natural unit of energy',\n",
              " 'natural unit of energy in MeV',\n",
              " 'natural unit of length',\n",
              " 'natural unit of mass',\n",
              " 'natural unit of momentum',\n",
              " 'natural unit of momentum in MeV/c',\n",
              " 'natural unit of time',\n",
              " 'natural unit of velocity',\n",
              " 'neutron Compton wavelength',\n",
              " 'neutron g factor',\n",
              " 'neutron gyromag. ratio',\n",
              " 'neutron gyromag. ratio in MHz/T',\n",
              " 'neutron mag. mom.',\n",
              " 'neutron mag. mom. to Bohr magneton ratio',\n",
              " 'neutron mag. mom. to nuclear magneton ratio',\n",
              " 'neutron mass',\n",
              " 'neutron mass energy equivalent',\n",
              " 'neutron mass energy equivalent in MeV',\n",
              " 'neutron mass in u',\n",
              " 'neutron molar mass',\n",
              " 'neutron relative atomic mass',\n",
              " 'neutron to shielded proton mag. mom. ratio',\n",
              " 'neutron-electron mag. mom. ratio',\n",
              " 'neutron-electron mass ratio',\n",
              " 'neutron-muon mass ratio',\n",
              " 'neutron-proton mag. mom. ratio',\n",
              " 'neutron-proton mass difference',\n",
              " 'neutron-proton mass difference energy equivalent',\n",
              " 'neutron-proton mass difference energy equivalent in MeV',\n",
              " 'neutron-proton mass difference in u',\n",
              " 'neutron-proton mass ratio',\n",
              " 'neutron-tau mass ratio',\n",
              " 'nuclear magneton',\n",
              " 'nuclear magneton in K/T',\n",
              " 'nuclear magneton in MHz/T',\n",
              " 'nuclear magneton in eV/T',\n",
              " 'nuclear magneton in inverse meter per tesla',\n",
              " 'proton Compton wavelength',\n",
              " 'proton charge to mass quotient',\n",
              " 'proton g factor',\n",
              " 'proton gyromag. ratio',\n",
              " 'proton gyromag. ratio in MHz/T',\n",
              " 'proton mag. mom.',\n",
              " 'proton mag. mom. to Bohr magneton ratio',\n",
              " 'proton mag. mom. to nuclear magneton ratio',\n",
              " 'proton mag. shielding correction',\n",
              " 'proton mass',\n",
              " 'proton mass energy equivalent',\n",
              " 'proton mass energy equivalent in MeV',\n",
              " 'proton mass in u',\n",
              " 'proton molar mass',\n",
              " 'proton relative atomic mass',\n",
              " 'proton rms charge radius',\n",
              " 'proton-electron mass ratio',\n",
              " 'proton-muon mass ratio',\n",
              " 'proton-neutron mag. mom. ratio',\n",
              " 'proton-neutron mass ratio',\n",
              " 'proton-tau mass ratio',\n",
              " 'quantum of circulation',\n",
              " 'quantum of circulation times 2',\n",
              " 'reduced Compton wavelength',\n",
              " 'reduced Planck constant',\n",
              " 'reduced Planck constant in eV s',\n",
              " 'reduced Planck constant times c in MeV fm',\n",
              " 'reduced muon Compton wavelength',\n",
              " 'reduced neutron Compton wavelength',\n",
              " 'reduced proton Compton wavelength',\n",
              " 'reduced tau Compton wavelength',\n",
              " 'second radiation constant',\n",
              " 'shielded helion gyromag. ratio',\n",
              " 'shielded helion gyromag. ratio in MHz/T',\n",
              " 'shielded helion mag. mom.',\n",
              " 'shielded helion mag. mom. to Bohr magneton ratio',\n",
              " 'shielded helion mag. mom. to nuclear magneton ratio',\n",
              " 'shielded helion to proton mag. mom. ratio',\n",
              " 'shielded helion to shielded proton mag. mom. ratio',\n",
              " 'shielded proton gyromag. ratio',\n",
              " 'shielded proton gyromag. ratio in MHz/T',\n",
              " 'shielded proton mag. mom.',\n",
              " 'shielded proton mag. mom. to Bohr magneton ratio',\n",
              " 'shielded proton mag. mom. to nuclear magneton ratio',\n",
              " 'shielding difference of d and p in HD',\n",
              " 'shielding difference of t and p in HT',\n",
              " 'speed of light in vacuum',\n",
              " 'standard acceleration of gravity',\n",
              " 'standard atmosphere',\n",
              " 'standard-state pressure',\n",
              " 'tau Compton wavelength',\n",
              " 'tau energy equivalent',\n",
              " 'tau mass',\n",
              " 'tau mass energy equivalent',\n",
              " 'tau mass in u',\n",
              " 'tau molar mass',\n",
              " 'tau-electron mass ratio',\n",
              " 'tau-muon mass ratio',\n",
              " 'tau-neutron mass ratio',\n",
              " 'tau-proton mass ratio',\n",
              " 'triton g factor',\n",
              " 'triton mag. mom.',\n",
              " 'triton mag. mom. to Bohr magneton ratio',\n",
              " 'triton mag. mom. to nuclear magneton ratio',\n",
              " 'triton mass',\n",
              " 'triton mass energy equivalent',\n",
              " 'triton mass energy equivalent in MeV',\n",
              " 'triton mass in u',\n",
              " 'triton molar mass',\n",
              " 'triton relative atomic mass',\n",
              " 'triton to proton mag. mom. ratio',\n",
              " 'triton-electron mass ratio',\n",
              " 'triton-proton mass ratio',\n",
              " 'unified atomic mass unit',\n",
              " 'vacuum electric permittivity',\n",
              " 'vacuum mag. permeability',\n",
              " 'von Klitzing constant',\n",
              " 'weak mixing angle']"
            ]
          },
          "metadata": {
            "tags": []
          },
          "execution_count": 110
        }
      ]
    },
    {
      "cell_type": "code",
      "metadata": {
        "id": "TaMJqJo0nozu",
        "colab_type": "code",
        "colab": {
          "base_uri": "https://localhost:8080/",
          "height": 208
        },
        "outputId": "f44599b9-bc88-4c16-80f4-42851b6132d1"
      },
      "source": [
        "#Find Specific Constants\n",
        "#gives all constants starting with given keyword\n",
        "\n",
        "scipy.constants.find(\"Planck\")"
      ],
      "execution_count": 137,
      "outputs": [
        {
          "output_type": "execute_result",
          "data": {
            "text/plain": [
              "['Planck constant',\n",
              " 'Planck constant in eV/Hz',\n",
              " 'Planck length',\n",
              " 'Planck mass',\n",
              " 'Planck mass energy equivalent in GeV',\n",
              " 'Planck temperature',\n",
              " 'Planck time',\n",
              " 'molar Planck constant',\n",
              " 'reduced Planck constant',\n",
              " 'reduced Planck constant in eV s',\n",
              " 'reduced Planck constant times c in MeV fm']"
            ]
          },
          "metadata": {
            "tags": []
          },
          "execution_count": 137
        }
      ]
    },
    {
      "cell_type": "code",
      "metadata": {
        "id": "Xf4xV97Ynoxa",
        "colab_type": "code",
        "colab": {
          "base_uri": "https://localhost:8080/",
          "height": 35
        },
        "outputId": "983197ce-3114-4d10-cbfe-ba60b7498300"
      },
      "source": [
        "#Physical_Constant method\n",
        "\n",
        "scipy.constants.physical_constants[\"Planck constant\"]"
      ],
      "execution_count": 138,
      "outputs": [
        {
          "output_type": "execute_result",
          "data": {
            "text/plain": [
              "(6.62607015e-34, 'J Hz^-1', 0.0)"
            ]
          },
          "metadata": {
            "tags": []
          },
          "execution_count": 138
        }
      ]
    },
    {
      "cell_type": "code",
      "metadata": {
        "id": "WrzfcYs8novH",
        "colab_type": "code",
        "colab": {
          "base_uri": "https://localhost:8080/",
          "height": 35
        },
        "outputId": "573a1455-3b0f-4dd2-d564-85f01db4fb5b"
      },
      "source": [
        "#Returns value of particular Constant\n",
        "\n",
        "scipy.constants.value(\"Planck constant\")"
      ],
      "execution_count": 139,
      "outputs": [
        {
          "output_type": "execute_result",
          "data": {
            "text/plain": [
              "6.62607015e-34"
            ]
          },
          "metadata": {
            "tags": []
          },
          "execution_count": 139
        }
      ]
    },
    {
      "cell_type": "code",
      "metadata": {
        "id": "qRe0Hgqv73s-",
        "colab_type": "code",
        "colab": {
          "base_uri": "https://localhost:8080/",
          "height": 35
        },
        "outputId": "f9a627e0-dd17-4b4d-d424-64f310b0a499"
      },
      "source": [
        "scipy.constants.value(\"Boltzmann constant\")"
      ],
      "execution_count": 140,
      "outputs": [
        {
          "output_type": "execute_result",
          "data": {
            "text/plain": [
              "1.380649e-23"
            ]
          },
          "metadata": {
            "tags": []
          },
          "execution_count": 140
        }
      ]
    },
    {
      "cell_type": "code",
      "metadata": {
        "id": "v4F8Qd2wno3m",
        "colab_type": "code",
        "colab": {
          "base_uri": "https://localhost:8080/",
          "height": 35
        },
        "outputId": "5c066d12-959c-46a2-e72f-8291f0f78711"
      },
      "source": [
        "scipy.constants.pi"
      ],
      "execution_count": 112,
      "outputs": [
        {
          "output_type": "execute_result",
          "data": {
            "text/plain": [
              "3.141592653589793"
            ]
          },
          "metadata": {
            "tags": []
          },
          "execution_count": 112
        }
      ]
    },
    {
      "cell_type": "markdown",
      "metadata": {
        "id": "fFZsrlit8Dox",
        "colab_type": "text"
      },
      "source": [
        "### For more information about SciPy, visit SciPy Official Documentation\n",
        "\n",
        "#### https://docs.scipy.org/doc/"
      ]
    },
    {
      "cell_type": "markdown",
      "metadata": {
        "id": "RjpkrM5N8Did",
        "colab_type": "text"
      },
      "source": [
        "## Thanks for watching\n",
        "### #HappyLearning"
      ]
    },
    {
      "cell_type": "code",
      "metadata": {
        "id": "j--p8_2Lnotb",
        "colab_type": "code",
        "colab": {}
      },
      "source": [
        ""
      ],
      "execution_count": 0,
      "outputs": []
    },
    {
      "cell_type": "code",
      "metadata": {
        "id": "eXxFVZF9norB",
        "colab_type": "code",
        "colab": {}
      },
      "source": [
        ""
      ],
      "execution_count": 0,
      "outputs": []
    },
    {
      "cell_type": "code",
      "metadata": {
        "id": "hvrLV5Tnoio6",
        "colab_type": "code",
        "colab": {}
      },
      "source": [
        ""
      ],
      "execution_count": 0,
      "outputs": []
    }
  ]
}